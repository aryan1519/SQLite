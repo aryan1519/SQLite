{
 "cells": [
  {
   "cell_type": "code",
   "execution_count": 1,
   "metadata": {},
   "outputs": [],
   "source": [
    "import sqlite3"
   ]
  },
  {
   "cell_type": "code",
   "execution_count": 2,
   "metadata": {},
   "outputs": [
    {
     "data": {
      "text/plain": [
       "<sqlite3.Connection at 0x2336b292730>"
      ]
     },
     "execution_count": 2,
     "metadata": {},
     "output_type": "execute_result"
    }
   ],
   "source": [
    "db = sqlite3.connect(\"Employee.sqlite\")\n",
    "db"
   ]
  },
  {
   "cell_type": "code",
   "execution_count": 3,
   "metadata": {},
   "outputs": [
    {
     "data": {
      "text/plain": [
       "<sqlite3.Cursor at 0x2336b2c6420>"
      ]
     },
     "execution_count": 3,
     "metadata": {},
     "output_type": "execute_result"
    }
   ],
   "source": [
    "cur = db.cursor()\n",
    "cur"
   ]
  },
  {
   "cell_type": "code",
   "execution_count": 4,
   "metadata": {},
   "outputs": [
    {
     "data": {
      "text/plain": [
       "<sqlite3.Cursor at 0x2336b2c6420>"
      ]
     },
     "execution_count": 4,
     "metadata": {},
     "output_type": "execute_result"
    }
   ],
   "source": [
    "cur.execute(\"create table EmployeeDetail('employeeid' int Primary key,name text,age int,department text,salary int)\")"
   ]
  },
  {
   "cell_type": "code",
   "execution_count": 5,
   "metadata": {},
   "outputs": [],
   "source": [
    "db.commit()"
   ]
  },
  {
   "cell_type": "code",
   "execution_count": 6,
   "metadata": {},
   "outputs": [
    {
     "data": {
      "text/plain": [
       "<sqlite3.Cursor at 0x2336b2c6420>"
      ]
     },
     "execution_count": 6,
     "metadata": {},
     "output_type": "execute_result"
    }
   ],
   "source": [
    "cur.execute(\"insert into EmployeeDetail values(100,'Rishav',25,'Marketing',50000)\")"
   ]
  },
  {
   "cell_type": "code",
   "execution_count": 7,
   "metadata": {},
   "outputs": [
    {
     "data": {
      "text/plain": [
       "<sqlite3.Cursor at 0x2336b2c6420>"
      ]
     },
     "execution_count": 7,
     "metadata": {},
     "output_type": "execute_result"
    }
   ],
   "source": [
    "cur.execute(\"insert into EmployeeDetail values(101,'Abhishek',26,'Operations',60000)\")"
   ]
  },
  {
   "cell_type": "code",
   "execution_count": 8,
   "metadata": {},
   "outputs": [
    {
     "data": {
      "text/plain": [
       "<sqlite3.Cursor at 0x2336b2c6420>"
      ]
     },
     "execution_count": 8,
     "metadata": {},
     "output_type": "execute_result"
    }
   ],
   "source": [
    "cur.execute(\"insert into EmployeeDetail values(102,'Aman',24,'Human Resource',75000)\")"
   ]
  },
  {
   "cell_type": "code",
   "execution_count": 10,
   "metadata": {},
   "outputs": [],
   "source": [
    "db.commit()"
   ]
  },
  {
   "cell_type": "code",
   "execution_count": 11,
   "metadata": {},
   "outputs": [],
   "source": [
    "cur.execute(\"Delete from EmployeeDetail where employeeid = 101\")\n",
    "db.commit()"
   ]
  },
  {
   "cell_type": "code",
   "execution_count": 12,
   "metadata": {},
   "outputs": [],
   "source": [
    "rem_emp_id = 102\n",
    "cur.execute(\"Delete from EmployeeDetail where employeeid = ?\",(rem_emp_id,))\n",
    "db.commit()"
   ]
  },
  {
   "cell_type": "markdown",
   "metadata": {},
   "source": [
    "##### Q1.)Update SQL Table"
   ]
  },
  {
   "cell_type": "code",
   "execution_count": 13,
   "metadata": {},
   "outputs": [],
   "source": [
    "employee_id=[101,102,103,104,105,106,107,108,109,110,111,112,113]\n",
    "name=['Aadarsh','Aarti','Siddharth','Aman','Amit','Shivansh','Vaibhav','Himanshu','Raman','Kunal','Adhira','Tanya']\n",
    "age=[25,27,25,24,30,26,23,26,25,26,29,24]\n",
    "department=['Marketing','Operations','Finance','Human Resource','Marketing','IT','Finance','IT','Operations','Marketing','Human Resource','Marketing']\n",
    "salary=[50000,60000,85000,75000,50000,90000,85000,90000,60000,50000,75000,50000]\n",
    "\n",
    "values = list(zip(employee_id,name,age,department,salary))\n",
    "cur.executemany(\"Insert into EmployeeDetail values(?,?,?,?,?)\",values)\n",
    "db.commit()\n",
    "db.close()"
   ]
  },
  {
   "cell_type": "markdown",
   "metadata": {},
   "source": [
    "##### Q2.)Finance Employee SQLite"
   ]
  },
  {
   "cell_type": "code",
   "execution_count": 14,
   "metadata": {},
   "outputs": [
    {
     "name": "stdout",
     "output_type": "stream",
     "text": [
      "103\n",
      "107\n"
     ]
    }
   ],
   "source": [
    "import sqlite3\n",
    "db = sqlite3.connect(\"Employee.sqlite\")\n",
    "cur = db.cursor()\n",
    "\n",
    "cur.execute(\"Select employeeid from EmployeeDetail where department ='Finance'\")\n",
    "for i in cur:\n",
    "    print(i[0])\n",
    "db.close()"
   ]
  },
  {
   "cell_type": "code",
   "execution_count": 16,
   "metadata": {},
   "outputs": [],
   "source": [
    "cur.execute(\"Delete from EmployeeDetail where employeeid = 100\")\n",
    "db.commit()"
   ]
  },
  {
   "cell_type": "code",
   "execution_count": 17,
   "metadata": {},
   "outputs": [
    {
     "name": "stdout",
     "output_type": "stream",
     "text": [
      "Finance 2\n",
      "Human Resource 2\n",
      "IT 2\n",
      "Marketing 4\n",
      "Operations 2\n"
     ]
    }
   ],
   "source": [
    "import sqlite3\n",
    "db = sqlite3.connect(\"Employee.sqlite\")\n",
    "cur = db.cursor()\n",
    "\n",
    "cur.execute(\"Select department,count(department) from EmployeeDetail group by department\")\n",
    "\n",
    "for i in cur:\n",
    "    print(i[0],i[1])\n"
   ]
  },
  {
   "cell_type": "markdown",
   "metadata": {},
   "source": [
    "##### Q3.)Count Genre"
   ]
  },
  {
   "cell_type": "code",
   "execution_count": 17,
   "metadata": {},
   "outputs": [
    {
     "name": "stdout",
     "output_type": "stream",
     "text": [
      "Drama 77\n",
      "Adventure 43\n",
      "Action 33\n",
      "Comedy 31\n",
      "Biography 21\n",
      "Sci-Fi 18\n",
      "Thriller 14\n",
      "Romance 13\n",
      "Animation 13\n",
      "Crime 11\n",
      "Fantasy 7\n",
      "Mystery 7\n",
      "History 6\n",
      "Sport 3\n",
      "Family 3\n",
      "Music 3\n",
      "War 2\n",
      "Horror 2\n",
      "Western 2\n",
      "Musical 1\n"
     ]
    }
   ],
   "source": [
    "import sqlite3\n",
    "import pandas as pd\n",
    "db = sqlite3.connect(\"IMDB.sqlite\")\n",
    "data = pd.read_sql_query(\"Select * from genre\",db)\n",
    "data = data[data[\"genre\"] != \"\"]\n",
    "genre = data[\"genre\"].value_counts().index\n",
    "number = data[\"genre\"].value_counts().values\n",
    "\n",
    "for i in range(len(genre)):\n",
    "    print(genre[i],number[i])\n",
    "db.close()"
   ]
  },
  {
   "cell_type": "markdown",
   "metadata": {},
   "source": [
    "##### Q4.)IMDB Movie"
   ]
  },
  {
   "cell_type": "code",
   "execution_count": 55,
   "metadata": {},
   "outputs": [
    {
     "name": "stdout",
     "output_type": "stream",
     "text": [
      "8.1\n"
     ]
    }
   ],
   "source": [
    "import sqlite3\n",
    "import pandas as pd\n",
    "\n",
    "db = sqlite3.connect(\"IMDB.sqlite\")\n",
    "\n",
    "earning = pd.read_sql_query(\"Select * from earning\",db)\n",
    "IMDB = pd.read_sql_query(\"Select * from IMDB\",db)\n",
    "\n",
    "IMDB_earning = pd.merge(IMDB,earning,on = \"Movie_id\")\n",
    "\n",
    "\n",
    "IMDB_earning[\"Total\"] = IMDB_earning[\"Domestic\"]+IMDB_earning[\"Worldwide\"]\n",
    "\n",
    "highest_earning = IMDB_earning[IMDB_earning[\"Total\"] == max(IMDB_earning[\"Total\"])]\n",
    "\n",
    "print(highest_earning[\"Rating\"].values[0])\n",
    "\n",
    "db.close()"
   ]
  },
  {
   "cell_type": "markdown",
   "metadata": {},
   "source": [
    "##### Q5.)IMDB Voted"
   ]
  },
  {
   "cell_type": "code",
   "execution_count": 63,
   "metadata": {},
   "outputs": [
    {
     "name": "stdout",
     "output_type": "stream",
     "text": [
      "Inception (2010) 8.8\n"
     ]
    }
   ],
   "source": [
    "import sqlite3\n",
    "import pandas as pd\n",
    "\n",
    "db = sqlite3.connect(\"IMDB.sqlite\")\n",
    "\n",
    "IMDB = pd.read_sql_query(\"Select * from IMDB\",db)\n",
    "\n",
    "IMDB = IMDB[IMDB[\"TotalVotes\"] == max(IMDB[\"TotalVotes\"])]\n",
    "\n",
    "print(IMDB[\"Title\"].values[0],IMDB[\"Rating\"].values[0])\n",
    "\n",
    "db.close()"
   ]
  },
  {
   "cell_type": "markdown",
   "metadata": {},
   "source": [
    "##### Q6.)IMDB running time"
   ]
  },
  {
   "cell_type": "code",
   "execution_count": 95,
   "metadata": {},
   "outputs": [
    {
     "name": "stdout",
     "output_type": "stream",
     "text": [
      "The Wolf of Wall Street (2013) 180\n"
     ]
    }
   ],
   "source": [
    "import sqlite3\n",
    "import pandas as pd\n",
    "\n",
    "db = sqlite3.connect(\"IMDB.sqlite\")\n",
    "\n",
    "IMDB = pd.read_sql_query(\"Select * from IMDB\",db)\n",
    "\n",
    "IMDB[\"Runtime\"] = IMDB[\"Runtime\"].str.replace(\" min\",\"\")\n",
    "\n",
    "IMDB[\"Runtime\"] = pd.to_numeric(IMDB[\"Runtime\"])\n",
    "\n",
    "IMDB = IMDB[IMDB[\"Runtime\"] == max(IMDB[\"Runtime\"])]\n",
    "\n",
    "print(IMDB[\"Title\"].values[0],int(IMDB[\"Runtime\"].values[0]))\n",
    "\n",
    "db.close()"
   ]
  },
  {
   "cell_type": "markdown",
   "metadata": {},
   "source": [
    "##### Q7.)IMDB profit"
   ]
  },
  {
   "cell_type": "code",
   "execution_count": 120,
   "metadata": {},
   "outputs": [
    {
     "name": "stdout",
     "output_type": "stream",
     "text": [
      "Star Wars: The Force Awakens (2015)\n"
     ]
    }
   ],
   "source": [
    "import sqlite3\n",
    "import pandas as pd\n",
    "\n",
    "db = sqlite3.connect(\"IMDB.sqlite\")\n",
    "\n",
    "earning = pd.read_sql_query(\"Select * from earning\",db)\n",
    "IMDB = pd.read_sql_query(\"Select * from IMDB\",db)\n",
    "\n",
    "IMDB_earning = pd.merge(IMDB,earning,on = \"Movie_id\")\n",
    "IMDB_earning[\"Budget\"].replace(\"\",0,inplace = True)\n",
    "\n",
    "IMDB_earning[\"Profit\"] = IMDB_earning[\"Domestic\"]+IMDB_earning[\"Worldwide\"]-IMDB_earning[\"Budget\"]\n",
    "\n",
    "\n",
    "IMDB_earning = IMDB_earning[IMDB_earning[\"Profit\"] == max(IMDB_earning[\"Profit\"])]\n",
    "print(IMDB_earning[\"Title\"].values[0])\n",
    "\n",
    "db.close()"
   ]
  },
  {
   "cell_type": "markdown",
   "metadata": {},
   "source": [
    "##### Q7.)IMDB least budget"
   ]
  },
  {
   "cell_type": "code",
   "execution_count": 133,
   "metadata": {},
   "outputs": [
    {
     "name": "stdout",
     "output_type": "stream",
     "text": [
      "Short Term 12 (2013)\n"
     ]
    }
   ],
   "source": [
    "import sqlite3\n",
    "import pandas as pd\n",
    "\n",
    "db = sqlite3.connect(\"IMDB.sqlite\")\n",
    "\n",
    "earning = pd.read_sql_query(\"Select * from earning\",db)\n",
    "IMDB = pd.read_sql_query(\"Select * from IMDB\",db)\n",
    "\n",
    "IMDB_earning = pd.merge(IMDB,earning,on = \"Movie_id\")\n",
    "\n",
    "IMDB_earning = IMDB_earning[IMDB_earning[\"Budget\"] != \"\"]\n",
    "\n",
    "IMDB_earning[\"Profit\"] = IMDB_earning[\"Domestic\"]+IMDB_earning[\"Worldwide\"]-IMDB_earning[\"Budget\"]\n",
    "IMDB_earning = IMDB_earning[IMDB_earning[\"Budget\"] == min(IMDB_earning[\"Budget\"])]\n",
    "IMDB_earning\n",
    "IMDB_earning = IMDB_earning[IMDB_earning[\"Profit\"] == max(IMDB_earning[\"Profit\"])]\n",
    "\n",
    "print(IMDB_earning[\"Title\"].values[0])\n",
    "\n",
    "db.close()"
   ]
  },
  {
   "cell_type": "markdown",
   "metadata": {},
   "source": [
    "##### Q8.)IMDB Year Top"
   ]
  },
  {
   "cell_type": "code",
   "execution_count": 175,
   "metadata": {},
   "outputs": [
    {
     "name": "stdout",
     "output_type": "stream",
     "text": [
      "2010 Toy Story 3 (2010)\n",
      "2011 Rise of the Planet of the Apes (2011)\n",
      "2012 The Avengers (2012)\n",
      "2013 The Hunger Games: Catching Fire (2013)\n",
      "2014 Guardians of the Galaxy (2014)\n",
      "2015 Star Wars: The Force Awakens (2015)\n",
      "2016 Rogue One (2016)\n"
     ]
    }
   ],
   "source": [
    "import sqlite3\n",
    "import pandas as pd\n",
    "\n",
    "db = sqlite3.connect(\"IMDB.sqlite\")\n",
    "\n",
    "earning = pd.read_sql_query(\"Select * from earning\",db)\n",
    "IMDB = pd.read_sql_query(\"Select * from IMDB\",db)\n",
    "\n",
    "IMDB_earning = pd.merge(IMDB,earning,on = \"Movie_id\")\n",
    "\n",
    "IMDB_earning[\"Total\"] = IMDB_earning[\"Domestic\"]+IMDB_earning[\"Worldwide\"]\n",
    "\n",
    "def year(s):\n",
    "    return int(s[-5:].rstrip(\")\"))\n",
    "\n",
    "IMDB_earning[\"Year\"] = IMDB_earning[\"Title\"].apply(year)\n",
    "\n",
    "years = IMDB_earning[\"Year\"].value_counts().index.sort_values()\n",
    "\n",
    "for i in years:\n",
    "    df = IMDB_earning[IMDB_earning[\"Year\"] == i]\n",
    "    df = df[df[\"Total\"] == max(df[\"Total\"])]\n",
    "    print(df[\"Year\"].values[0],df[\"Title\"].values[0])\n"
   ]
  },
  {
   "cell_type": "markdown",
   "metadata": {},
   "source": [
    "##### Q9.)IMDB genre budget"
   ]
  },
  {
   "cell_type": "code",
   "execution_count": 64,
   "metadata": {},
   "outputs": [
    {
     "name": "stdout",
     "output_type": "stream",
     "text": [
      "Action 17.98\n",
      "Adventure 25.10\n",
      "Animation 7.66\n",
      "Biography 2.59\n",
      "Comedy 7.22\n",
      "Crime 1.77\n",
      "Drama 10.85\n",
      "Family 1.91\n",
      "Fantasy 4.54\n",
      "History 0.72\n",
      "Horror 0.03\n",
      "Music 0.15\n",
      "Musical 0.25\n",
      "Mystery 1.95\n",
      "Romance 1.12\n",
      "Sci-Fi 10.77\n",
      "Sport 0.46\n",
      "Thriller 3.99\n",
      "War 0.36\n",
      "Western 0.57\n"
     ]
    },
    {
     "data": {
      "image/png": "[encoded data removed]",
      "text/plain": [
       "<Figure size 432x288 with 1 Axes>"
      ]
     },
     "metadata": {},
     "output_type": "display_data"
    }
   ],
   "source": [
    "import sqlite3\n",
    "import pandas as pd\n",
    "import matplotlib.pyplot as plt\n",
    "\n",
    "db = sqlite3.connect(\"IMDB.sqlite\")\n",
    "\n",
    "earning = pd.read_sql_query(\"Select * from earning\",db)\n",
    "IMDB = pd.read_sql_query(\"Select * from IMDB\",db)\n",
    "genre = pd.read_sql_query(\"Select * from genre\",db)\n",
    "\n",
    "genre = genre[genre[\"genre\"] != \"\"]\n",
    "\n",
    "IMDB[\"Budget\"] = IMDB[\"Budget\"].replace(\"\",0)\n",
    "\n",
    "\n",
    "IMDB_genre = pd.merge(IMDB,genre,on = \"Movie_id\")\n",
    "\n",
    "total = IMDB_genre[\"Budget\"].sum()\n",
    "\n",
    "\n",
    "d = IMDB_genre.groupby('genre')['Budget'].sum()\n",
    "\n",
    "genres = d.index\n",
    "\n",
    "def per(num):\n",
    "    per = (num/total)*100\n",
    "    return format(per,\".2f\")\n",
    "l = []\n",
    "for i in range (len(d)):\n",
    "    percent = per(d[i])\n",
    "    print(genres[i],percent)\n",
    "    l.append(percent)\n",
    "\n",
    "plt.style.use([\"ggplot\"])\n",
    "plt.pie(l,labels = genres,autopct = '%.2f')\n",
    "plt.show()"
   ]
  },
  {
   "cell_type": "markdown",
   "metadata": {},
   "source": [
    "##### Q10.)IMDB genre earning"
   ]
  },
  {
   "cell_type": "code",
   "execution_count": 66,
   "metadata": {},
   "outputs": [
    {
     "name": "stdout",
     "output_type": "stream",
     "text": [
      "Action 17.91\n",
      "Adventure 23.57\n",
      "Animation 6.77\n",
      "Biography 3.42\n",
      "Comedy 7.69\n",
      "Crime 1.55\n",
      "Drama 11.96\n",
      "Family 1.05\n",
      "Fantasy 5.15\n",
      "History 1.04\n",
      "Horror 0.01\n",
      "Music 0.43\n",
      "Musical 0.38\n",
      "Mystery 2.01\n",
      "Romance 1.45\n",
      "Sci-Fi 9.95\n",
      "Sport 0.32\n",
      "Thriller 4.42\n",
      "War 0.25\n",
      "Western 0.65\n"
     ]
    },
    {
     "data": {
      "image/png": "[encoded data removed]",
      "text/plain": [
       "<Figure size 432x288 with 1 Axes>"
      ]
     },
     "metadata": {},
     "output_type": "display_data"
    }
   ],
   "source": [
    "import sqlite3\n",
    "import pandas as pd\n",
    "\n",
    "db = sqlite3.connect(\"IMDB.sqlite\")\n",
    "\n",
    "earning = pd.read_sql_query(\"Select * from earning\",db)\n",
    "# IMDB = pd.read_sql_query(\"Select * from IMDB\",db)\n",
    "genre = pd.read_sql_query(\"Select * from genre\",db)\n",
    "\n",
    "genre = genre[genre[\"genre\"] != \"\"]\n",
    "\n",
    "genre_earning = pd.merge(genre,earning,on = \"Movie_id\")\n",
    "\n",
    "\n",
    "genre_earning[\"Total\"] = genre_earning[\"Domestic\"]+genre_earning[\"Worldwide\"]\n",
    "\n",
    "total = genre_earning[\"Total\"].sum()\n",
    "\n",
    "\n",
    "d = genre_earning.groupby('genre')['Total'].sum()\n",
    "\n",
    "genres = d.index\n",
    "\n",
    "def per(num):\n",
    "    per = (num/total)*100\n",
    "    return format(per,\".2f\")\n",
    "l = []\n",
    "for i in range (len(d)):\n",
    "    percent = per(d[i])\n",
    "    print(genres[i],percent)\n",
    "    l.append(percent)\n",
    "\n",
    "plt.style.use([\"ggplot\"])\n",
    "plt.pie(l,labels = genres,autopct = '%.2f')\n",
    "plt.show()\n",
    "\n",
    "import sqlite3\n",
    "import pandas as pd\n",
    "\n",
    "db = sqlite3.connect(\"IMDB.sqlite\")\n",
    "\n",
    "earning = pd.read_sql_query(\"Select * from earning\",db)\n",
    "# IMDB = pd.read_sql_query(\"Select * from IMDB\",db)\n",
    "genre = pd.read_sql_query(\"Select * from genre\",db)\n",
    "\n",
    "genre = genre[genre[\"genre\"] != \"\"]\n",
    "\n",
    "genre_earning = pd.merge(genre,earning,on = \"Movie_id\")\n",
    "\n",
    "\n",
    "genre_earning[\"Total\"] = genre_earning[\"Domestic\"]+genre_earning[\"Worldwide\"]\n",
    "\n",
    "total = genre_earning[\"Total\"].sum()\n",
    "\n",
    "\n",
    "d = genre_earning.groupby('genre')['Total'].sum()\n",
    "\n",
    "genres = d.index\n",
    "\n",
    "def per(num):\n",
    "    per = (num/total)*100\n",
    "    return format(per,\".2f\")\n",
    "l = []\n",
    "for i in range (len(d)):\n",
    "    percent = per(d[i])\n",
    "    print(genres[i],percent)\n",
    "    l.append(percent)\n",
    "\n",
    "\n"
   ]
  },
  {
   "cell_type": "markdown",
   "metadata": {},
   "source": [
    "##### Q11.)IMDB Specific Genre"
   ]
  },
  {
   "cell_type": "code",
   "execution_count": 77,
   "metadata": {},
   "outputs": [
    {
     "name": "stdout",
     "output_type": "stream",
     "text": [
      "Arrival (2016)\n"
     ]
    }
   ],
   "source": [
    "import sqlite3\n",
    "import pandas as pd\n",
    "\n",
    "db = sqlite3.connect(\"IMDB.sqlite\")\n",
    "\n",
    "earning = pd.read_sql_query(\"Select * from earning\",db)\n",
    "IMDB = pd.read_sql_query(\"Select * from IMDB\",db)\n",
    "genre = pd.read_sql_query(\"Select * from genre\",db)\n",
    "\n",
    "genre = genre[genre[\"genre\"] != \"\"]\n",
    "\n",
    "IMDB_genre = pd.merge(IMDB,genre,on = \"Movie_id\")\n",
    "\n",
    "IMDB_genre = IMDB_genre[(IMDB_genre[\"genre\"] == \"Sci-Fi\") | (IMDB_genre[\"genre\"] == \"Mystery\")]\n",
    "\n",
    "IMDB_genre = IMDB_genre[IMDB_genre[\"Rating\"]>=8.0]\n",
    "\n",
    "print(IMDB_genre[\"Title\"].value_counts().index[0])"
   ]
  }
 ],
 "metadata": {
  "kernelspec": {
   "display_name": "Python 3",
   "language": "python",
   "name": "python3"
  },
  "language_info": {
   "codemirror_mode": {
    "name": "ipython",
    "version": 3
   },
   "file_extension": ".py",
   "mimetype": "text/x-python",
   "name": "python",
   "nbconvert_exporter": "python",
   "pygments_lexer": "ipython3",
   "version": "3.7.4"
  }
 },
 "nbformat": 4,
 "nbformat_minor": 2
}
